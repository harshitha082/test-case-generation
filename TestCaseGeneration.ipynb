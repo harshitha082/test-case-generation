{
 "cells": [
  {
   "cell_type": "code",
   "execution_count": null,
   "metadata": {},
   "outputs": [],
   "source": [
    "from openai import OpenAI\n",
    "import pandas as pd\n",
    "from docx import Document"
   ]
  },
  {
   "cell_type": "code",
   "execution_count": null,
   "metadata": {},
   "outputs": [],
   "source": [
    "client = OpenAI(api_key=\"your-api-key-here\")"
   ]
  },
  {
   "cell_type": "code",
   "execution_count": null,
   "metadata": {},
   "outputs": [],
   "source": [
    "def extract_text_from_docx(docx_path):\n",
    "    doc = Document(docx_path)\n",
    "    full_text = []\n",
    "    for para in doc.paragraphs:\n",
    "        full_text.append(para.text)\n",
    "    return '\\n'.join(full_text)\n",
    "\n",
    "def extract_requirements_from_text(text):\n",
    "    prompt = f\"\"\"\n",
    "    You are an AI assistant for business analysis. Please extract and list all functional requirements from the following document:\n",
    "\n",
    "    {text}\n",
    "\n",
    "    Provide a list of requirements in a clear and concise format.\n",
    "    \"\"\"\n",
    "    response = openai.ChatCompletion.create(\n",
    "        model=\"<model>\",\n",
    "        messages=[\n",
    "            {\"role\": \"system\", \"content\": \"You are a business analysis assistant.\"},\n",
    "            {\"role\": \"user\", \"content\": prompt}\n",
    "        ],\n",
    "        max_tokens=1000,\n",
    "        temperature=0.5\n",
    "    )\n",
    "    return response.choices[0].message.content"
   ]
  },
  {
   "cell_type": "code",
   "execution_count": null,
   "metadata": {},
   "outputs": [],
   "source": [
    "def extract_requirements_from_docx(docx_path):\n",
    "    # Step 1: Extract text from .docx file\n",
    "    document_text = extract_text_from_docx(docx_path)\n",
    "    \n",
    "    # Step 2: Use model to process the text and extract requirements\n",
    "    requirements = extract_requirements_from_text(document_text)\n",
    "    \n",
    "    return requirements"
   ]
  },
  {
   "cell_type": "code",
   "execution_count": null,
   "metadata": {},
   "outputs": [],
   "source": [
    "def generate_test_cases(requirement):\n",
    "    \"\"\"\n",
    "    Generate test cases from a single requirement using OpenAI.\n",
    "    :param requirement: A functional requirement as a string.\n",
    "    :return: Generated test cases as a string.\n",
    "    \"\"\"\n",
    "    prompt = f\"\"\"\n",
    "    Based on the following business requirement, generate detailed test cases.\n",
    "\n",
    "    Requirement: {requirement}\n",
    "\n",
    "    Test Case Format:\n",
    "    - Test Case ID\n",
    "    - Description\n",
    "    - Preconditions\n",
    "    - Test Steps\n",
    "    - Expected Outcome\n",
    "    - Priority\n",
    "\n",
    "    Generate at least 3 test cases covering positive, negative, and edge scenarios.\n",
    "    \"\"\"\n",
    "    \n",
    "    # Use environment variable or replace with your actual key    \n",
    "    try:\n",
    "        response = client.chat.completions.create(\n",
    "            model=\"<model>\",\n",
    "            messages=[\n",
    "                {\"role\": \"system\", \"content\": \"You are a test case generator.\"},\n",
    "                {\"role\": \"user\", \"content\": prompt}\n",
    "            ],\n",
    "            max_tokens=500,\n",
    "            temperature=0.7\n",
    "        )\n",
    "        \n",
    "        return response.choices[0].message.content\n",
    "    except Exception as e:\n",
    "        print(f\"Error generating test cases: {e}\")\n",
    "        return f\"Error: Unable to generate test cases. {str(e)}\""
   ]
  },
  {
   "cell_type": "code",
   "execution_count": null,
   "metadata": {},
   "outputs": [],
   "source": [
    "def export_test_cases_to_excel(test_cases, output_file):\n",
    "    \"\"\"\n",
    "    Export test cases to an Excel file.\n",
    "    :param test_cases: List of dictionaries representing test cases.\n",
    "    :param output_file: Path to the output Excel file.\n",
    "    \"\"\"\n",
    "    df = pd.DataFrame(test_cases)\n",
    "    df.to_excel(output_file, index=False)\n",
    "    print(f\"Test cases exported to {output_file}\")"
   ]
  },
  {
   "cell_type": "code",
   "execution_count": null,
   "metadata": {},
   "outputs": [],
   "source": [
    "def process_brd_and_generate_test_cases(input_docx, output_excel):\n",
    "    # Step 1: Extract requirements from BRD\n",
    "    requirements = extract_requirements_from_docx(input_docx)\n",
    "    \n",
    "    # Step 2: Generate test cases for each requirement\n",
    "    all_test_cases = []\n",
    "    for i, requirement in enumerate(requirements):\n",
    "        print(f\"Processing requirement {i+1}/{len(requirements)}: {requirement}\")\n",
    "        generated_test_cases = generate_test_cases(requirement)\n",
    "        all_test_cases.append({\n",
    "            \"Requirement\": requirement,\n",
    "            \"Test Cases\": generated_test_cases\n",
    "        })\n",
    "    \n",
    "    # Step 3: Export test cases to Excel\n",
    "    export_test_cases_to_excel(all_test_cases, output_excel)"
   ]
  },
  {
   "cell_type": "code",
   "execution_count": null,
   "metadata": {},
   "outputs": [],
   "source": [
    "input_brd_path = \"BRD_Sample.docx\"  # Replace with your BRD file path\n",
    "output_excel_path = \"Generated_Test_Cases.xlsx\"\n",
    "process_brd_and_generate_test_cases(input_brd_path, output_excel_path)"
   ]
  }
 ],
 "metadata": {
  "kernelspec": {
   "display_name": "Python 3",
   "language": "python",
   "name": "python3"
  },
  "language_info": {
   "codemirror_mode": {
    "name": "ipython",
    "version": 3
   },
   "file_extension": ".py",
   "mimetype": "text/x-python",
   "name": "python",
   "nbconvert_exporter": "python",
   "pygments_lexer": "ipython3",
   "version": "3.8.3"
  }
 },
 "nbformat": 4,
 "nbformat_minor": 4
}
